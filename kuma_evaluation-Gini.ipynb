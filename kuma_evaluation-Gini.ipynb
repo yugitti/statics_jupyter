{
 "cells": [
  {
   "cell_type": "code",
   "execution_count": 31,
   "metadata": {
    "collapsed": true
   },
   "outputs": [],
   "source": [
    "import pandas as pd\n",
    "from pandas import DataFrame, Series\n",
    "import matplotlib\n",
    "import matplotlib.pyplot as plt\n",
    "%matplotlib inline"
   ]
  },
  {
   "cell_type": "code",
   "execution_count": 143,
   "metadata": {
    "collapsed": true
   },
   "outputs": [],
   "source": [
    "result0 = pd.read_csv('./kuma/out/kuma_out_gini_meas_level.csv')\n",
    "result1 = pd.read_csv('./kuma/out/kuma_out_gini_level.csv')"
   ]
  },
  {
   "cell_type": "code",
   "execution_count": 144,
   "metadata": {
    "collapsed": true
   },
   "outputs": [],
   "source": [
    "rank = pd.read_csv('./kuma/rank.csv', header=None, names=( \"file name index\", \"rank\"))"
   ]
  },
  {
   "cell_type": "code",
   "execution_count": 145,
   "metadata": {
    "collapsed": true
   },
   "outputs": [],
   "source": [
    "data0 = pd.concat([result0, rank['rank']], axis=1, join='inner')\n",
    "data1 = pd.concat([result1, rank['rank']], axis=1, join='inner')"
   ]
  },
  {
   "cell_type": "code",
   "execution_count": 146,
   "metadata": {
    "collapsed": true
   },
   "outputs": [],
   "source": [
    "data0.loc[:, 'measurement_mean'] = (data0['measurement0'] + data0['measurement1']) / 2\n",
    "data0.loc[:, 'gini_mean'] = (data0['gini0'] + data0['gini1']) / 2\n",
    "data0_mean =  data0[['file name', 'rank', 'measurement_mean', 'gini_mean']]"
   ]
  },
  {
   "cell_type": "code",
   "execution_count": 147,
   "metadata": {
    "collapsed": true
   },
   "outputs": [],
   "source": [
    "data1.loc[:, 'measurement_mean'] = (data1['measurement0'] + data1['measurement1']) / 2\n",
    "data1.loc[:, 'gini_mean'] = (data1['gini0'] + data1['gini1']) / 2\n",
    "data1_mean =  data1[['file name', 'rank', 'measurement_mean', 'gini_mean']]"
   ]
  },
  {
   "cell_type": "code",
   "execution_count": 148,
   "metadata": {},
   "outputs": [],
   "source": [
    "data0_mean.loc[:,'measurement_norm'] = (data0['measurement_mean'] -data0['measurement_mean'].mean())/data0['measurement_mean'].std()\n",
    "data0_mean.loc[:,'gini_norm'] = (data0['gini_mean'] -data0['gini_mean'].mean())/data0['gini_mean'].std()\n",
    "\n",
    "data1_mean.loc[:,'measurement_norm'] = (data1['measurement_mean'] -data1['measurement_mean'].mean())/data1['measurement_mean'].std()\n",
    "data1_mean.loc[:,'gini_norm'] = (data1['gini_mean'] -data1['gini_mean'].mean())/data1['gini_mean'].std()"
   ]
  },
  {
   "cell_type": "code",
   "execution_count": 149,
   "metadata": {},
   "outputs": [
    {
     "data": {
      "text/plain": [
       "<matplotlib.axes._subplots.AxesSubplot at 0x7f78cc431790>"
      ]
     },
     "execution_count": 149,
     "metadata": {},
     "output_type": "execute_result"
    },
    {
     "data": {
      "image/png": "[encoded data removed]",
      "text/plain": [
       "<matplotlib.figure.Figure at 0x7f78d35e6350>"
      ]
     },
     "metadata": {},
     "output_type": "display_data"
    }
   ],
   "source": [
    "fig, axes = plt.subplots(nrows=2, ncols=3, figsize=(15, 10))\n",
    "data0_mean[['rank', 'measurement_norm']].plot(y='rank', x='measurement_norm', kind='scatter', ax=axes[0,0], legend=False)\n",
    "data0_mean[['rank', 'gini_norm']].plot(y='rank', x='gini_norm', kind='scatter', ax=axes[0,1], legend=False)\n",
    "data0_mean[['measurement_norm', 'gini_norm']].plot(y='measurement_norm', x='gini_norm', kind='scatter', ax=axes[0,2], legend=False)\n",
    "\n",
    "data1_mean[['rank', 'measurement_norm']].plot(y='rank', x='measurement_norm', kind='scatter', ax=axes[1,0], legend=False)\n",
    "data1_mean[['rank', 'gini_norm']].plot(y='rank', x='gini_norm', kind='scatter', ax=axes[1,1], legend=False)\n",
    "data1_mean[['measurement_norm', 'gini_norm']].plot(y='measurement_norm', x='gini_norm', kind='scatter', ax=axes[1,2], legend=False)"
   ]
  },
  {
   "cell_type": "code",
   "execution_count": 150,
   "metadata": {},
   "outputs": [
    {
     "data": {
      "text/html": [
       "<div>\n",
       "<style>\n",
       "    .dataframe thead tr:only-child th {\n",
       "        text-align: right;\n",
       "    }\n",
       "\n",
       "    .dataframe thead th {\n",
       "        text-align: left;\n",
       "    }\n",
       "\n",
       "    .dataframe tbody tr th {\n",
       "        vertical-align: top;\n",
       "    }\n",
       "</style>\n",
       "<table border=\"1\" class=\"dataframe\">\n",
       "  <thead>\n",
       "    <tr style=\"text-align: right;\">\n",
       "      <th></th>\n",
       "      <th>rank</th>\n",
       "      <th>measurement_norm</th>\n",
       "      <th>measurement_mean</th>\n",
       "      <th>gini_mean</th>\n",
       "      <th>gini_norm</th>\n",
       "    </tr>\n",
       "  </thead>\n",
       "  <tbody>\n",
       "    <tr>\n",
       "      <th>rank</th>\n",
       "      <td>1.000000</td>\n",
       "      <td>-0.799021</td>\n",
       "      <td>-0.799021</td>\n",
       "      <td>-0.852434</td>\n",
       "      <td>-0.852434</td>\n",
       "    </tr>\n",
       "    <tr>\n",
       "      <th>measurement_norm</th>\n",
       "      <td>-0.799021</td>\n",
       "      <td>1.000000</td>\n",
       "      <td>1.000000</td>\n",
       "      <td>0.805279</td>\n",
       "      <td>0.805279</td>\n",
       "    </tr>\n",
       "    <tr>\n",
       "      <th>measurement_mean</th>\n",
       "      <td>-0.799021</td>\n",
       "      <td>1.000000</td>\n",
       "      <td>1.000000</td>\n",
       "      <td>0.805279</td>\n",
       "      <td>0.805279</td>\n",
       "    </tr>\n",
       "    <tr>\n",
       "      <th>gini_mean</th>\n",
       "      <td>-0.852434</td>\n",
       "      <td>0.805279</td>\n",
       "      <td>0.805279</td>\n",
       "      <td>1.000000</td>\n",
       "      <td>1.000000</td>\n",
       "    </tr>\n",
       "    <tr>\n",
       "      <th>gini_norm</th>\n",
       "      <td>-0.852434</td>\n",
       "      <td>0.805279</td>\n",
       "      <td>0.805279</td>\n",
       "      <td>1.000000</td>\n",
       "      <td>1.000000</td>\n",
       "    </tr>\n",
       "  </tbody>\n",
       "</table>\n",
       "</div>"
      ],
      "text/plain": [
       "                      rank  measurement_norm  measurement_mean  gini_mean  \\\n",
       "rank              1.000000         -0.799021         -0.799021  -0.852434   \n",
       "measurement_norm -0.799021          1.000000          1.000000   0.805279   \n",
       "measurement_mean -0.799021          1.000000          1.000000   0.805279   \n",
       "gini_mean        -0.852434          0.805279          0.805279   1.000000   \n",
       "gini_norm        -0.852434          0.805279          0.805279   1.000000   \n",
       "\n",
       "                  gini_norm  \n",
       "rank              -0.852434  \n",
       "measurement_norm   0.805279  \n",
       "measurement_mean   0.805279  \n",
       "gini_mean          1.000000  \n",
       "gini_norm          1.000000  "
      ]
     },
     "execution_count": 150,
     "metadata": {},
     "output_type": "execute_result"
    }
   ],
   "source": [
    "data0_mean[['rank', 'measurement_norm', 'measurement_mean', 'gini_mean', 'gini_norm']].corr()"
   ]
  },
  {
   "cell_type": "code",
   "execution_count": 151,
   "metadata": {},
   "outputs": [
    {
     "data": {
      "text/html": [
       "<div>\n",
       "<style>\n",
       "    .dataframe thead tr:only-child th {\n",
       "        text-align: right;\n",
       "    }\n",
       "\n",
       "    .dataframe thead th {\n",
       "        text-align: left;\n",
       "    }\n",
       "\n",
       "    .dataframe tbody tr th {\n",
       "        vertical-align: top;\n",
       "    }\n",
       "</style>\n",
       "<table border=\"1\" class=\"dataframe\">\n",
       "  <thead>\n",
       "    <tr style=\"text-align: right;\">\n",
       "      <th></th>\n",
       "      <th>rank</th>\n",
       "      <th>measurement_norm</th>\n",
       "      <th>measurement_mean</th>\n",
       "      <th>gini_mean</th>\n",
       "      <th>gini_norm</th>\n",
       "    </tr>\n",
       "  </thead>\n",
       "  <tbody>\n",
       "    <tr>\n",
       "      <th>rank</th>\n",
       "      <td>1.000000</td>\n",
       "      <td>-0.781647</td>\n",
       "      <td>-0.781647</td>\n",
       "      <td>-0.852434</td>\n",
       "      <td>-0.852434</td>\n",
       "    </tr>\n",
       "    <tr>\n",
       "      <th>measurement_norm</th>\n",
       "      <td>-0.781647</td>\n",
       "      <td>1.000000</td>\n",
       "      <td>1.000000</td>\n",
       "      <td>0.918737</td>\n",
       "      <td>0.918737</td>\n",
       "    </tr>\n",
       "    <tr>\n",
       "      <th>measurement_mean</th>\n",
       "      <td>-0.781647</td>\n",
       "      <td>1.000000</td>\n",
       "      <td>1.000000</td>\n",
       "      <td>0.918737</td>\n",
       "      <td>0.918737</td>\n",
       "    </tr>\n",
       "    <tr>\n",
       "      <th>gini_mean</th>\n",
       "      <td>-0.852434</td>\n",
       "      <td>0.918737</td>\n",
       "      <td>0.918737</td>\n",
       "      <td>1.000000</td>\n",
       "      <td>1.000000</td>\n",
       "    </tr>\n",
       "    <tr>\n",
       "      <th>gini_norm</th>\n",
       "      <td>-0.852434</td>\n",
       "      <td>0.918737</td>\n",
       "      <td>0.918737</td>\n",
       "      <td>1.000000</td>\n",
       "      <td>1.000000</td>\n",
       "    </tr>\n",
       "  </tbody>\n",
       "</table>\n",
       "</div>"
      ],
      "text/plain": [
       "                      rank  measurement_norm  measurement_mean  gini_mean  \\\n",
       "rank              1.000000         -0.781647         -0.781647  -0.852434   \n",
       "measurement_norm -0.781647          1.000000          1.000000   0.918737   \n",
       "measurement_mean -0.781647          1.000000          1.000000   0.918737   \n",
       "gini_mean        -0.852434          0.918737          0.918737   1.000000   \n",
       "gini_norm        -0.852434          0.918737          0.918737   1.000000   \n",
       "\n",
       "                  gini_norm  \n",
       "rank              -0.852434  \n",
       "measurement_norm   0.918737  \n",
       "measurement_mean   0.918737  \n",
       "gini_mean          1.000000  \n",
       "gini_norm          1.000000  "
      ]
     },
     "execution_count": 151,
     "metadata": {},
     "output_type": "execute_result"
    }
   ],
   "source": [
    "data1_mean[['rank', 'measurement_norm', 'measurement_mean', 'gini_mean', 'gini_norm']].corr()"
   ]
  },
  {
   "cell_type": "code",
   "execution_count": null,
   "metadata": {
    "collapsed": true
   },
   "outputs": [],
   "source": []
  }
 ],
 "metadata": {
  "kernelspec": {
   "display_name": "Python 2",
   "language": "python",
   "name": "python2"
  },
  "language_info": {
   "codemirror_mode": {
    "name": "ipython",
    "version": 2
   },
   "file_extension": ".py",
   "mimetype": "text/x-python",
   "name": "python",
   "nbconvert_exporter": "python",
   "pygments_lexer": "ipython2",
   "version": "2.7.13"
  }
 },
 "nbformat": 4,
 "nbformat_minor": 2
}
