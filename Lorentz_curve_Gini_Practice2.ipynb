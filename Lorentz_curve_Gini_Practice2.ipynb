{
 "cells": [
  {
   "cell_type": "code",
   "execution_count": 37,
   "metadata": {
    "collapsed": true
   },
   "outputs": [],
   "source": [
    "import pandas as pd\n",
    "from pandas import DataFrame,Series\n",
    "import numpy as np\n",
    "import seaborn as sns\n",
    "import matplotlib.pyplot as plt\n",
    "%matplotlib inline"
   ]
  },
  {
   "cell_type": "code",
   "execution_count": 56,
   "metadata": {
    "collapsed": true
   },
   "outputs": [],
   "source": [
    "population = [\n",
    "124, 151, 102, 189, 160, 145, 120, 132, 135, 159, 114, 175, 171, 124, 154,\n",
    "177, 152, 120, 144, 121, 113, 163, 186, 196, 183, 105, 130, 149, 130, 123, \n",
    "175, 143, 186, 182, 184, 174, 134, 158, 196, 109,\n",
    "216, 285, 209, 288, 276, 281, 283, 200, 262, \n",
    "267, 235, 206, 245, 232, 299, 249, 295, 232, 206, 237,\n",
    "369,\n",
    "487, 450, 487,\n",
    "597, 548,\n",
    "682,\n",
    "712, 706, 755, 700, 709, 747, 773, 796, 739, 716, 756, 767, 752, 728, 750,\n",
    "829, 875, 845, 881, 865, 804, 845, 890, 872, 833, 874, 845, 859, 837, 847, 811, 893, 807\n",
    "]"
   ]
  },
  {
   "cell_type": "code",
   "execution_count": 57,
   "metadata": {},
   "outputs": [],
   "source": [
    "dframe = DataFrame(population, columns=['population'])"
   ]
  },
  {
   "cell_type": "code",
   "execution_count": 58,
   "metadata": {},
   "outputs": [],
   "source": [
    "labels = [\"{0} - {1}\".format(i, i+100) for i in range(0, 900, 100)]\n",
    "c = pd.cut(population, np.arange(0,901,100), right=False, labels = labels)"
   ]
  },
  {
   "cell_type": "code",
   "execution_count": 59,
   "metadata": {},
   "outputs": [],
   "source": [
    "a = dframe.groupby(c).count()\n",
    "a.rename(columns={'population': 'count'}, inplace=True)"
   ]
  },
  {
   "cell_type": "code",
   "execution_count": 60,
   "metadata": {},
   "outputs": [],
   "source": [
    "a['class'] = [i for i in range(50, 851, 100)]"
   ]
  },
  {
   "cell_type": "code",
   "execution_count": 61,
   "metadata": {},
   "outputs": [],
   "source": [
    "total = a['count'].sum()"
   ]
  },
  {
   "cell_type": "code",
   "execution_count": 62,
   "metadata": {},
   "outputs": [],
   "source": [
    "a['rel freq']  = a['count'] / total\n",
    "a['acc rel freq'] = a['rel freq'].cumsum()"
   ]
  },
  {
   "cell_type": "code",
   "execution_count": 63,
   "metadata": {},
   "outputs": [],
   "source": [
    "a['population'] = dframe.groupby(c).sum()"
   ]
  },
  {
   "cell_type": "code",
   "execution_count": 64,
   "metadata": {},
   "outputs": [],
   "source": [
    "total_pop = a['population'].sum()"
   ]
  },
  {
   "cell_type": "code",
   "execution_count": 65,
   "metadata": {
    "collapsed": true
   },
   "outputs": [],
   "source": [
    "a['rel pop'] = a['population'] / total_pop\n",
    "a['acc rel pop'] = a['rel pop'].cumsum()"
   ]
  },
  {
   "cell_type": "code",
   "execution_count": 72,
   "metadata": {
    "collapsed": true
   },
   "outputs": [],
   "source": [
    "a = a.fillna(0)"
   ]
  },
  {
   "cell_type": "code",
   "execution_count": 73,
   "metadata": {},
   "outputs": [
    {
     "data": {
      "image/png": "[encoded data removed]",
      "text/plain": [
       "<matplotlib.figure.Figure at 0x7ff2b8160790>"
      ]
     },
     "metadata": {},
     "output_type": "display_data"
    }
   ],
   "source": [
    "p = plt.subplot()\n",
    "p.plot(a['acc rel freq'], a['acc rel pop'], marker=\"o\")\n",
    "\n",
    "ref_x = [float(i/10.0) for i in range(11)]\n",
    "ref_y = [float(i/10.0) for i in range(11)]\n",
    "\n",
    "p.plot(ref_x, ref_y, linestyle=\"dotted\")\n",
    "p.set_xlim([0, 1.0])\n",
    "plt.show()"
   ]
  },
  {
   "cell_type": "code",
   "execution_count": 71,
   "metadata": {},
   "outputs": [],
   "source": [
    "a = a.fillna(0)"
   ]
  },
  {
   "cell_type": "code",
   "execution_count": 74,
   "metadata": {
    "collapsed": true
   },
   "outputs": [],
   "source": [
    "A = [0,3,3,5,5,5,5,7,7,10]"
   ]
  },
  {
   "cell_type": "code",
   "execution_count": 81,
   "metadata": {
    "collapsed": true
   },
   "outputs": [],
   "source": [
    "def gini(data):\n",
    "    sub = []\n",
    "    for i in range(0, len(data)-1):\n",
    "        for j in range(i+1, len(data)):\n",
    "            sub.append(np.abs(data[i] - data[j]))\n",
    "    return float(sum(sub)*2) / (2 * (len(data) **2) * np.mean(data))\n",
    "    "
   ]
  },
  {
   "cell_type": "code",
   "execution_count": 114,
   "metadata": {},
   "outputs": [],
   "source": [
    "x = np.array(a['acc rel freq'])\n",
    "y = np.array(a['acc rel pop'])"
   ]
  },
  {
   "cell_type": "code",
   "execution_count": 115,
   "metadata": {},
   "outputs": [],
   "source": [
    "def gini(x, y):\n",
    "    area = []\n",
    "    for i in range(1, len(x)):\n",
    "        y_plus = y[i-1] + y[i]\n",
    "        area.append(y_plus * (x[i] - x[i-1]) / 2.0)\n",
    "    return (0.5 - np.sum(area))*2.0"
   ]
  },
  {
   "cell_type": "code",
   "execution_count": 116,
   "metadata": {},
   "outputs": [
    {
     "data": {
      "text/plain": [
       "0.37551561090935648"
      ]
     },
     "execution_count": 116,
     "metadata": {},
     "output_type": "execute_result"
    }
   ],
   "source": [
    "gini(x, y)"
   ]
  },
  {
   "cell_type": "code",
   "execution_count": null,
   "metadata": {
    "collapsed": true
   },
   "outputs": [],
   "source": []
  }
 ],
 "metadata": {
  "kernelspec": {
   "display_name": "Python 2",
   "language": "python",
   "name": "python2"
  },
  "language_info": {
   "codemirror_mode": {
    "name": "ipython",
    "version": 2
   },
   "file_extension": ".py",
   "mimetype": "text/x-python",
   "name": "python",
   "nbconvert_exporter": "python",
   "pygments_lexer": "ipython2",
   "version": "2.7.13"
  }
 },
 "nbformat": 4,
 "nbformat_minor": 2
}
