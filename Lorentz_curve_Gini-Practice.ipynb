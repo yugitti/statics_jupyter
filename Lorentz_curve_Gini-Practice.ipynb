{
 "cells": [
  {
   "cell_type": "code",
   "execution_count": 1,
   "metadata": {
    "collapsed": true
   },
   "outputs": [],
   "source": [
    "import pandas as pd\n",
    "from pandas import DataFrame,Series\n",
    "import numpy as np\n",
    "import seaborn as sns\n",
    "import matplotlib.pyplot as plt\n",
    "%matplotlib inline"
   ]
  },
  {
   "cell_type": "code",
   "execution_count": 2,
   "metadata": {},
   "outputs": [],
   "source": [
    "data = pd.read_csv('practice.csv')"
   ]
  },
  {
   "cell_type": "code",
   "execution_count": 3,
   "metadata": {},
   "outputs": [
    {
     "data": {
      "text/plain": [
       "Index([u'Range', u'Count', u'Base'], dtype='object')"
      ]
     },
     "execution_count": 3,
     "metadata": {},
     "output_type": "execute_result"
    }
   ],
   "source": [
    "data.columns"
   ]
  },
  {
   "cell_type": "code",
   "execution_count": 4,
   "metadata": {},
   "outputs": [],
   "source": [
    "data.set_index('Range', inplace=True)"
   ]
  },
  {
   "cell_type": "code",
   "execution_count": 5,
   "metadata": {},
   "outputs": [
    {
     "data": {
      "text/html": [
       "<div>\n",
       "<style>\n",
       "    .dataframe thead tr:only-child th {\n",
       "        text-align: right;\n",
       "    }\n",
       "\n",
       "    .dataframe thead th {\n",
       "        text-align: left;\n",
       "    }\n",
       "\n",
       "    .dataframe tbody tr th {\n",
       "        vertical-align: top;\n",
       "    }\n",
       "</style>\n",
       "<table border=\"1\" class=\"dataframe\">\n",
       "  <thead>\n",
       "    <tr style=\"text-align: right;\">\n",
       "      <th></th>\n",
       "      <th>Count</th>\n",
       "      <th>Base</th>\n",
       "    </tr>\n",
       "    <tr>\n",
       "      <th>Range</th>\n",
       "      <th></th>\n",
       "      <th></th>\n",
       "    </tr>\n",
       "  </thead>\n",
       "  <tbody>\n",
       "    <tr>\n",
       "      <th>0-100</th>\n",
       "      <td>881</td>\n",
       "      <td>0</td>\n",
       "    </tr>\n",
       "    <tr>\n",
       "      <th>100-200</th>\n",
       "      <td>456</td>\n",
       "      <td>100</td>\n",
       "    </tr>\n",
       "    <tr>\n",
       "      <th>200-300</th>\n",
       "      <td>449</td>\n",
       "      <td>200</td>\n",
       "    </tr>\n",
       "    <tr>\n",
       "      <th>300-400</th>\n",
       "      <td>403</td>\n",
       "      <td>300</td>\n",
       "    </tr>\n",
       "    <tr>\n",
       "      <th>400-500</th>\n",
       "      <td>350</td>\n",
       "      <td>400</td>\n",
       "    </tr>\n",
       "    <tr>\n",
       "      <th>500-600</th>\n",
       "      <td>362</td>\n",
       "      <td>500</td>\n",
       "    </tr>\n",
       "    <tr>\n",
       "      <th>600-700</th>\n",
       "      <td>309</td>\n",
       "      <td>600</td>\n",
       "    </tr>\n",
       "    <tr>\n",
       "      <th>700-800</th>\n",
       "      <td>277</td>\n",
       "      <td>700</td>\n",
       "    </tr>\n",
       "    <tr>\n",
       "      <th>800-900</th>\n",
       "      <td>247</td>\n",
       "      <td>800</td>\n",
       "    </tr>\n",
       "    <tr>\n",
       "      <th>900-1000</th>\n",
       "      <td>226</td>\n",
       "      <td>900</td>\n",
       "    </tr>\n",
       "    <tr>\n",
       "      <th>1000-1200</th>\n",
       "      <td>460</td>\n",
       "      <td>1000</td>\n",
       "    </tr>\n",
       "    <tr>\n",
       "      <th>1200-1400</th>\n",
       "      <td>385</td>\n",
       "      <td>1200</td>\n",
       "    </tr>\n",
       "    <tr>\n",
       "      <th>1400-1600</th>\n",
       "      <td>332</td>\n",
       "      <td>1400</td>\n",
       "    </tr>\n",
       "    <tr>\n",
       "      <th>1600-1800</th>\n",
       "      <td>268</td>\n",
       "      <td>1600</td>\n",
       "    </tr>\n",
       "    <tr>\n",
       "      <th>1800-2000</th>\n",
       "      <td>234</td>\n",
       "      <td>1800</td>\n",
       "    </tr>\n",
       "    <tr>\n",
       "      <th>2000-2500</th>\n",
       "      <td>483</td>\n",
       "      <td>2000</td>\n",
       "    </tr>\n",
       "    <tr>\n",
       "      <th>2500-3000</th>\n",
       "      <td>377</td>\n",
       "      <td>2500</td>\n",
       "    </tr>\n",
       "    <tr>\n",
       "      <th>3000-4000</th>\n",
       "      <td>490</td>\n",
       "      <td>3000</td>\n",
       "    </tr>\n",
       "    <tr>\n",
       "      <th>4000</th>\n",
       "      <td>965</td>\n",
       "      <td>4000</td>\n",
       "    </tr>\n",
       "  </tbody>\n",
       "</table>\n",
       "</div>"
      ],
      "text/plain": [
       "           Count  Base\n",
       "Range                 \n",
       "0-100        881     0\n",
       "100-200      456   100\n",
       "200-300      449   200\n",
       "300-400      403   300\n",
       "400-500      350   400\n",
       "500-600      362   500\n",
       "600-700      309   600\n",
       "700-800      277   700\n",
       "800-900      247   800\n",
       "900-1000     226   900\n",
       "1000-1200    460  1000\n",
       "1200-1400    385  1200\n",
       "1400-1600    332  1400\n",
       "1600-1800    268  1600\n",
       "1800-2000    234  1800\n",
       "2000-2500    483  2000\n",
       "2500-3000    377  2500\n",
       "3000-4000    490  3000\n",
       "4000         965  4000"
      ]
     },
     "execution_count": 5,
     "metadata": {},
     "output_type": "execute_result"
    }
   ],
   "source": [
    "data"
   ]
  },
  {
   "cell_type": "code",
   "execution_count": 6,
   "metadata": {},
   "outputs": [],
   "source": [
    "dframe = data"
   ]
  },
  {
   "cell_type": "code",
   "execution_count": null,
   "metadata": {
    "collapsed": true
   },
   "outputs": [],
   "source": []
  },
  {
   "cell_type": "code",
   "execution_count": 7,
   "metadata": {},
   "outputs": [
    {
     "data": {
      "text/plain": [
       "['0',\n",
       " '000 - 050',\n",
       " '050 - 100',\n",
       " '100 - 150',\n",
       " '150 - 200',\n",
       " '200 - 250',\n",
       " '250 - 300',\n",
       " '300 - 350',\n",
       " '350 - 400']"
      ]
     },
     "execution_count": 7,
     "metadata": {},
     "output_type": "execute_result"
    }
   ],
   "source": [
    "labels = [\"0\"]\n",
    "labels = labels + [\"{0:03} - {1:03}\".format(i, i+50) for i in range(0, 400, 50)]\n",
    "labels"
   ]
  },
  {
   "cell_type": "code",
   "execution_count": 8,
   "metadata": {},
   "outputs": [],
   "source": [
    "# labels = [\"{0:03} - {1:03}\".format(i, i+50) for i in range(0, 400, 50)]\n",
    "# c = pd.cut(dframe['スクリーン数'], np.arange(0,401,50), right=False, labels = labels)"
   ]
  },
  {
   "cell_type": "code",
   "execution_count": 9,
   "metadata": {
    "collapsed": true
   },
   "outputs": [],
   "source": [
    "# a = dframe.groupby(c).count()\n",
    "# a.rename(columns={'スクリーン数': 'count'}, inplace=True)\n",
    "a = dframe"
   ]
  },
  {
   "cell_type": "code",
   "execution_count": 10,
   "metadata": {},
   "outputs": [],
   "source": [
    "# a['class'] = [i for i in range(25, 376, 50)]"
   ]
  },
  {
   "cell_type": "code",
   "execution_count": 11,
   "metadata": {},
   "outputs": [],
   "source": [
    "total = a['Count'].sum()"
   ]
  },
  {
   "cell_type": "code",
   "execution_count": 12,
   "metadata": {
    "collapsed": true
   },
   "outputs": [],
   "source": [
    "a['rel freq']  = a['Count'] / total\n",
    "a['acc rel freq'] = a['rel freq'].cumsum()"
   ]
  },
  {
   "cell_type": "code",
   "execution_count": 13,
   "metadata": {},
   "outputs": [],
   "source": [
    "# a['screen'] = dframe.groupby(c).sum()"
   ]
  },
  {
   "cell_type": "code",
   "execution_count": 14,
   "metadata": {
    "collapsed": true
   },
   "outputs": [],
   "source": [
    "# total_pop = a['screen'].sum()\n",
    "a['total'] = a['Base'] * a['Count']\n",
    "total = a['total'].sum()"
   ]
  },
  {
   "cell_type": "code",
   "execution_count": 15,
   "metadata": {},
   "outputs": [],
   "source": [
    "a['rel pop'] = a['total'] / total\n",
    "a['acc rel pop'] = a['rel pop'].cumsum()"
   ]
  },
  {
   "cell_type": "code",
   "execution_count": 16,
   "metadata": {},
   "outputs": [
    {
     "data": {
      "text/html": [
       "<div>\n",
       "<style>\n",
       "    .dataframe thead tr:only-child th {\n",
       "        text-align: right;\n",
       "    }\n",
       "\n",
       "    .dataframe thead th {\n",
       "        text-align: left;\n",
       "    }\n",
       "\n",
       "    .dataframe tbody tr th {\n",
       "        vertical-align: top;\n",
       "    }\n",
       "</style>\n",
       "<table border=\"1\" class=\"dataframe\">\n",
       "  <thead>\n",
       "    <tr style=\"text-align: right;\">\n",
       "      <th></th>\n",
       "      <th>Count</th>\n",
       "      <th>Base</th>\n",
       "      <th>rel freq</th>\n",
       "      <th>acc rel freq</th>\n",
       "      <th>total</th>\n",
       "      <th>rel pop</th>\n",
       "      <th>acc rel pop</th>\n",
       "    </tr>\n",
       "    <tr>\n",
       "      <th>Range</th>\n",
       "      <th></th>\n",
       "      <th></th>\n",
       "      <th></th>\n",
       "      <th></th>\n",
       "      <th></th>\n",
       "      <th></th>\n",
       "      <th></th>\n",
       "    </tr>\n",
       "  </thead>\n",
       "  <tbody>\n",
       "    <tr>\n",
       "      <th>0-100</th>\n",
       "      <td>881</td>\n",
       "      <td>0</td>\n",
       "      <td>0.110762</td>\n",
       "      <td>0.110762</td>\n",
       "      <td>0</td>\n",
       "      <td>0.000000</td>\n",
       "      <td>0.000000</td>\n",
       "    </tr>\n",
       "    <tr>\n",
       "      <th>100-200</th>\n",
       "      <td>456</td>\n",
       "      <td>100</td>\n",
       "      <td>0.057330</td>\n",
       "      <td>0.168092</td>\n",
       "      <td>45600</td>\n",
       "      <td>0.004209</td>\n",
       "      <td>0.004209</td>\n",
       "    </tr>\n",
       "    <tr>\n",
       "      <th>200-300</th>\n",
       "      <td>449</td>\n",
       "      <td>200</td>\n",
       "      <td>0.056450</td>\n",
       "      <td>0.224541</td>\n",
       "      <td>89800</td>\n",
       "      <td>0.008290</td>\n",
       "      <td>0.012499</td>\n",
       "    </tr>\n",
       "    <tr>\n",
       "      <th>300-400</th>\n",
       "      <td>403</td>\n",
       "      <td>300</td>\n",
       "      <td>0.050666</td>\n",
       "      <td>0.275207</td>\n",
       "      <td>120900</td>\n",
       "      <td>0.011160</td>\n",
       "      <td>0.023659</td>\n",
       "    </tr>\n",
       "    <tr>\n",
       "      <th>400-500</th>\n",
       "      <td>350</td>\n",
       "      <td>400</td>\n",
       "      <td>0.044003</td>\n",
       "      <td>0.319210</td>\n",
       "      <td>140000</td>\n",
       "      <td>0.012924</td>\n",
       "      <td>0.036583</td>\n",
       "    </tr>\n",
       "    <tr>\n",
       "      <th>500-600</th>\n",
       "      <td>362</td>\n",
       "      <td>500</td>\n",
       "      <td>0.045512</td>\n",
       "      <td>0.364722</td>\n",
       "      <td>181000</td>\n",
       "      <td>0.016708</td>\n",
       "      <td>0.053291</td>\n",
       "    </tr>\n",
       "    <tr>\n",
       "      <th>600-700</th>\n",
       "      <td>309</td>\n",
       "      <td>600</td>\n",
       "      <td>0.038848</td>\n",
       "      <td>0.403571</td>\n",
       "      <td>185400</td>\n",
       "      <td>0.017115</td>\n",
       "      <td>0.070406</td>\n",
       "    </tr>\n",
       "    <tr>\n",
       "      <th>700-800</th>\n",
       "      <td>277</td>\n",
       "      <td>700</td>\n",
       "      <td>0.034825</td>\n",
       "      <td>0.438396</td>\n",
       "      <td>193900</td>\n",
       "      <td>0.017899</td>\n",
       "      <td>0.088305</td>\n",
       "    </tr>\n",
       "    <tr>\n",
       "      <th>800-900</th>\n",
       "      <td>247</td>\n",
       "      <td>800</td>\n",
       "      <td>0.031054</td>\n",
       "      <td>0.469449</td>\n",
       "      <td>197600</td>\n",
       "      <td>0.018241</td>\n",
       "      <td>0.106546</td>\n",
       "    </tr>\n",
       "    <tr>\n",
       "      <th>900-1000</th>\n",
       "      <td>226</td>\n",
       "      <td>900</td>\n",
       "      <td>0.028413</td>\n",
       "      <td>0.497863</td>\n",
       "      <td>203400</td>\n",
       "      <td>0.018776</td>\n",
       "      <td>0.125322</td>\n",
       "    </tr>\n",
       "    <tr>\n",
       "      <th>1000-1200</th>\n",
       "      <td>460</td>\n",
       "      <td>1000</td>\n",
       "      <td>0.057833</td>\n",
       "      <td>0.555695</td>\n",
       "      <td>460000</td>\n",
       "      <td>0.042463</td>\n",
       "      <td>0.167785</td>\n",
       "    </tr>\n",
       "    <tr>\n",
       "      <th>1200-1400</th>\n",
       "      <td>385</td>\n",
       "      <td>1200</td>\n",
       "      <td>0.048403</td>\n",
       "      <td>0.604099</td>\n",
       "      <td>462000</td>\n",
       "      <td>0.042648</td>\n",
       "      <td>0.210433</td>\n",
       "    </tr>\n",
       "    <tr>\n",
       "      <th>1400-1600</th>\n",
       "      <td>332</td>\n",
       "      <td>1400</td>\n",
       "      <td>0.041740</td>\n",
       "      <td>0.645839</td>\n",
       "      <td>464800</td>\n",
       "      <td>0.042906</td>\n",
       "      <td>0.253339</td>\n",
       "    </tr>\n",
       "    <tr>\n",
       "      <th>1600-1800</th>\n",
       "      <td>268</td>\n",
       "      <td>1600</td>\n",
       "      <td>0.033694</td>\n",
       "      <td>0.679532</td>\n",
       "      <td>428800</td>\n",
       "      <td>0.039583</td>\n",
       "      <td>0.292922</td>\n",
       "    </tr>\n",
       "    <tr>\n",
       "      <th>1800-2000</th>\n",
       "      <td>234</td>\n",
       "      <td>1800</td>\n",
       "      <td>0.029419</td>\n",
       "      <td>0.708951</td>\n",
       "      <td>421200</td>\n",
       "      <td>0.038882</td>\n",
       "      <td>0.331804</td>\n",
       "    </tr>\n",
       "    <tr>\n",
       "      <th>2000-2500</th>\n",
       "      <td>483</td>\n",
       "      <td>2000</td>\n",
       "      <td>0.060724</td>\n",
       "      <td>0.769676</td>\n",
       "      <td>966000</td>\n",
       "      <td>0.089173</td>\n",
       "      <td>0.420977</td>\n",
       "    </tr>\n",
       "    <tr>\n",
       "      <th>2500-3000</th>\n",
       "      <td>377</td>\n",
       "      <td>2500</td>\n",
       "      <td>0.047398</td>\n",
       "      <td>0.817073</td>\n",
       "      <td>942500</td>\n",
       "      <td>0.087003</td>\n",
       "      <td>0.507980</td>\n",
       "    </tr>\n",
       "    <tr>\n",
       "      <th>3000-4000</th>\n",
       "      <td>490</td>\n",
       "      <td>3000</td>\n",
       "      <td>0.061604</td>\n",
       "      <td>0.878677</td>\n",
       "      <td>1470000</td>\n",
       "      <td>0.135698</td>\n",
       "      <td>0.643678</td>\n",
       "    </tr>\n",
       "    <tr>\n",
       "      <th>4000</th>\n",
       "      <td>965</td>\n",
       "      <td>4000</td>\n",
       "      <td>0.121323</td>\n",
       "      <td>1.000000</td>\n",
       "      <td>3860000</td>\n",
       "      <td>0.356322</td>\n",
       "      <td>1.000000</td>\n",
       "    </tr>\n",
       "  </tbody>\n",
       "</table>\n",
       "</div>"
      ],
      "text/plain": [
       "           Count  Base  rel freq  acc rel freq    total   rel pop  acc rel pop\n",
       "Range                                                                         \n",
       "0-100        881     0  0.110762      0.110762        0  0.000000     0.000000\n",
       "100-200      456   100  0.057330      0.168092    45600  0.004209     0.004209\n",
       "200-300      449   200  0.056450      0.224541    89800  0.008290     0.012499\n",
       "300-400      403   300  0.050666      0.275207   120900  0.011160     0.023659\n",
       "400-500      350   400  0.044003      0.319210   140000  0.012924     0.036583\n",
       "500-600      362   500  0.045512      0.364722   181000  0.016708     0.053291\n",
       "600-700      309   600  0.038848      0.403571   185400  0.017115     0.070406\n",
       "700-800      277   700  0.034825      0.438396   193900  0.017899     0.088305\n",
       "800-900      247   800  0.031054      0.469449   197600  0.018241     0.106546\n",
       "900-1000     226   900  0.028413      0.497863   203400  0.018776     0.125322\n",
       "1000-1200    460  1000  0.057833      0.555695   460000  0.042463     0.167785\n",
       "1200-1400    385  1200  0.048403      0.604099   462000  0.042648     0.210433\n",
       "1400-1600    332  1400  0.041740      0.645839   464800  0.042906     0.253339\n",
       "1600-1800    268  1600  0.033694      0.679532   428800  0.039583     0.292922\n",
       "1800-2000    234  1800  0.029419      0.708951   421200  0.038882     0.331804\n",
       "2000-2500    483  2000  0.060724      0.769676   966000  0.089173     0.420977\n",
       "2500-3000    377  2500  0.047398      0.817073   942500  0.087003     0.507980\n",
       "3000-4000    490  3000  0.061604      0.878677  1470000  0.135698     0.643678\n",
       "4000         965  4000  0.121323      1.000000  3860000  0.356322     1.000000"
      ]
     },
     "execution_count": 16,
     "metadata": {},
     "output_type": "execute_result"
    }
   ],
   "source": [
    "a = a.fillna(0)\n",
    "a"
   ]
  },
  {
   "cell_type": "code",
   "execution_count": 17,
   "metadata": {},
   "outputs": [],
   "source": [
    "b = DataFrame(a)"
   ]
  },
  {
   "cell_type": "code",
   "execution_count": 18,
   "metadata": {},
   "outputs": [
    {
     "data": {
      "text/plain": [
       "0            0.000000\n",
       "0-100        0.110762\n",
       "100-200      0.168092\n",
       "200-300      0.224541\n",
       "300-400      0.275207\n",
       "400-500      0.319210\n",
       "500-600      0.364722\n",
       "600-700      0.403571\n",
       "700-800      0.438396\n",
       "800-900      0.469449\n",
       "900-1000     0.497863\n",
       "1000-1200    0.555695\n",
       "1200-1400    0.604099\n",
       "1400-1600    0.645839\n",
       "1600-1800    0.679532\n",
       "1800-2000    0.708951\n",
       "2000-2500    0.769676\n",
       "2500-3000    0.817073\n",
       "3000-4000    0.878677\n",
       "4000         1.000000\n",
       "dtype: float64"
      ]
     },
     "execution_count": 18,
     "metadata": {},
     "output_type": "execute_result"
    }
   ],
   "source": [
    "ser1 = pd.Series(0, index=['0'])\n",
    "X = pd.concat([ser1,a['acc rel freq']])\n",
    "Y = pd.concat([ser1,a['acc rel pop']])\n",
    "X"
   ]
  },
  {
   "cell_type": "code",
   "execution_count": 19,
   "metadata": {},
   "outputs": [
    {
     "data": {
      "image/png": "[encoded data removed]",
      "text/plain": [
       "<matplotlib.figure.Figure at 0x7fab80c0c810>"
      ]
     },
     "metadata": {},
     "output_type": "display_data"
    }
   ],
   "source": [
    "p = plt.subplot()\n",
    "p.plot(X, Y, marker=\"o\")\n",
    "\n",
    "ref_x = [float(i/10.0) for i in range(11)]\n",
    "ref_y = [float(i/10.0) for i in range(11)]\n",
    "\n",
    "p.plot(ref_x, ref_y, linestyle=\"dotted\")\n",
    "p.set_xlim([0, 1.0])\n",
    "plt.show()"
   ]
  },
  {
   "cell_type": "code",
   "execution_count": 20,
   "metadata": {
    "collapsed": true
   },
   "outputs": [],
   "source": [
    "a = a.fillna(0)"
   ]
  },
  {
   "cell_type": "code",
   "execution_count": 21,
   "metadata": {
    "collapsed": true
   },
   "outputs": [],
   "source": [
    "A = [0,3,3,5,5,5,5,7,7,10]"
   ]
  },
  {
   "cell_type": "code",
   "execution_count": 22,
   "metadata": {
    "collapsed": true
   },
   "outputs": [],
   "source": [
    "def gini(data):\n",
    "    sub = []\n",
    "    for i in range(0, len(data)-1):\n",
    "        for j in range(i+1, len(data)):\n",
    "            sub.append(np.abs(data[i] - data[j]))\n",
    "    return float(sum(sub)*2) / (2 * (len(data) **2) * np.mean(data))\n",
    "    "
   ]
  },
  {
   "cell_type": "code",
   "execution_count": 23,
   "metadata": {
    "collapsed": true
   },
   "outputs": [],
   "source": [
    "x = np.array(X)\n",
    "y = np.array(Y)"
   ]
  },
  {
   "cell_type": "code",
   "execution_count": 24,
   "metadata": {
    "collapsed": true
   },
   "outputs": [],
   "source": [
    "def gini(x, y):\n",
    "    area = []\n",
    "    for i in range(1, len(x)):\n",
    "        y_plus = y[i-1] + y[i]\n",
    "        area.append(y_plus * (x[i] - x[i-1]) / 2.0)\n",
    "    return (0.5 - np.sum(area))*2.0"
   ]
  },
  {
   "cell_type": "code",
   "execution_count": 25,
   "metadata": {},
   "outputs": [
    {
     "data": {
      "text/plain": [
       "0.5157656239519729"
      ]
     },
     "execution_count": 25,
     "metadata": {},
     "output_type": "execute_result"
    }
   ],
   "source": [
    "gini(x, y)"
   ]
  },
  {
   "cell_type": "code",
   "execution_count": null,
   "metadata": {
    "collapsed": true
   },
   "outputs": [],
   "source": []
  }
 ],
 "metadata": {
  "kernelspec": {
   "display_name": "Python 2",
   "language": "python",
   "name": "python2"
  },
  "language_info": {
   "codemirror_mode": {
    "name": "ipython",
    "version": 2
   },
   "file_extension": ".py",
   "mimetype": "text/x-python",
   "name": "python",
   "nbconvert_exporter": "python",
   "pygments_lexer": "ipython2",
   "version": "2.7.13"
  }
 },
 "nbformat": 4,
 "nbformat_minor": 2
}
